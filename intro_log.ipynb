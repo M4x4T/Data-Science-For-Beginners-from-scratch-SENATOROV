{
 "cells": [
  {
   "cell_type": "code",
   "execution_count": null,
   "id": "504b7de3",
   "metadata": {
    "vscode": {
     "languageId": "plaintext"
    }
   },
   "outputs": [],
   "source": [
    "\"\"\"Интро отчёт.\"\"\""
   ]
  },
  {
   "cell_type": "markdown",
   "id": "005e8e5e",
   "metadata": {},
   "source": [
    "11/08/2025\n",
    "\n",
    "1.скачал и установил все фреймворки и организовал базовую рабочую среду\n",
    "2.вспомнил и изучил о Git, Github\n",
    "3.сделал форк репозитории и установил пакеты и зависимости\n",
    "4.здал отчёт"
   ]
  }
 ],
 "metadata": {
  "language_info": {
   "name": "python"
  }
 },
 "nbformat": 4,
 "nbformat_minor": 5
}
